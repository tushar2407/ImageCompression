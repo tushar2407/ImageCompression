{
 "cells": [
  {
   "cell_type": "code",
   "execution_count": 1,
   "id": "a818c688-2a56-40a0-bc17-4fb23ecf0e01",
   "metadata": {},
   "outputs": [],
   "source": [
    "import torch\n",
    "import torchvision.transforms as transforms\n",
    "from PIL import Image\n",
    "from compressai.zoo import models\n",
    "\n",
    "# Doesnt work\n",
    "def compress_image_with_pretrained(image_path, quality=1):\n",
    "    \"\"\"\n",
    "    Compress an image using a pre-trained CompressAI model\n",
    "    \n",
    "    Args:\n",
    "        image_path: Path to the input image\n",
    "        quality: Quality parameter (1-8), higher means better quality but larger size\n",
    "    \n",
    "    Returns:\n",
    "        Compressed and reconstructed image as a PIL Image\n",
    "    \"\"\"\n",
    "    # Load pre-trained model (e.g., Cheng2020Attention)\n",
    "    model = models['cheng2020-anchor'](quality=quality, pretrained=True)\n",
    "    model.eval()\n",
    "    \n",
    "    # Move to GPU if available\n",
    "    device = 'cuda' if torch.cuda.is_available() else 'cpu'\n",
    "    model = model.to(device)\n",
    "    \n",
    "    # Load and preprocess image\n",
    "    img = Image.open(image_path).convert('RGB')\n",
    "    transform = transforms.Compose([\n",
    "        transforms.ToTensor()\n",
    "    ])\n",
    "    \n",
    "    x = transform(img).unsqueeze(0).to(device)\n",
    "    \n",
    "    # Compress and decompress\n",
    "    with torch.no_grad():\n",
    "        compressed = model.compress(x)\n",
    "        decompressed = model.decompress(compressed['strings'], compressed['shape'])\n",
    "    \n",
    "    # Post-process the output\n",
    "    x_hat = decompressed['x_hat']\n",
    "    \n",
    "    # Convert to PIL Image\n",
    "    out_img = transforms.ToPILImage()(x_hat.squeeze().cpu().clamp_(0, 1))\n",
    "    \n",
    "    # Calculate compression stats\n",
    "    original_size = img.size[0] * img.size[1] * 3  # RGB image\n",
    "    compressed_size = sum(len(s[0]) for s in compressed['strings'])\n",
    "    compression_ratio = original_size / compressed_size\n",
    "    \n",
    "    return out_img, {\n",
    "        'original_size_bytes': original_size,\n",
    "        'compressed_size_bytes': compressed_size,\n",
    "        'compression_ratio': compression_ratio\n",
    "    }"
   ]
  },
  {
   "cell_type": "code",
   "execution_count": 2,
   "id": "8ccbbe8c-46bf-428f-8543-b041a2713b44",
   "metadata": {},
   "outputs": [
    {
     "name": "stderr",
     "output_type": "stream",
     "text": [
      "Downloading: \"https://compressai.s3.amazonaws.com/models/v1/cheng2020-anchor-1-dad2ebff.pth.tar\" to /tmp/xdg-cache/torch/hub/checkpoints/cheng2020-anchor-1-dad2ebff.pth.tar\n",
      "100%|██████████| 49.1M/49.1M [00:00<00:00, 110MB/s] \n",
      "/tmp/ipykernel_902/821993812.py:35: UserWarning: Inference on GPU is not recommended for the autoregressive models (the entropy coder is run sequentially on CPU).\n",
      "  compressed = model.compress(x)\n"
     ]
    },
    {
     "ename": "RuntimeError",
     "evalue": "Calculated padded input size per channel: (5 x 4). Kernel size: (5 x 5). Kernel size can't be greater than actual input size",
     "output_type": "error",
     "traceback": [
      "\u001b[0;31m---------------------------------------------------------------------------\u001b[0m",
      "\u001b[0;31mRuntimeError\u001b[0m                              Traceback (most recent call last)",
      "Cell \u001b[0;32mIn[2], line 2\u001b[0m\n\u001b[1;32m      1\u001b[0m \u001b[38;5;28;01mfor\u001b[39;00m quality \u001b[38;5;129;01min\u001b[39;00m [\u001b[38;5;241m1\u001b[39m, \u001b[38;5;241m4\u001b[39m, \u001b[38;5;241m8\u001b[39m]:\n\u001b[0;32m----> 2\u001b[0m         reconstructed_img, stats \u001b[38;5;241m=\u001b[39m \u001b[43mcompress_image_with_pretrained\u001b[49m\u001b[43m(\u001b[49m\n\u001b[1;32m      3\u001b[0m \u001b[43m            \u001b[49m\u001b[38;5;124;43m'\u001b[39;49m\u001b[38;5;124;43m0.png\u001b[39;49m\u001b[38;5;124;43m'\u001b[39;49m\u001b[43m,\u001b[49m\n\u001b[1;32m      4\u001b[0m \u001b[43m            \u001b[49m\u001b[43mquality\u001b[49m\u001b[38;5;241;43m=\u001b[39;49m\u001b[43mquality\u001b[49m\n\u001b[1;32m      5\u001b[0m \u001b[43m        \u001b[49m\u001b[43m)\u001b[49m\n\u001b[1;32m      7\u001b[0m         \u001b[38;5;28mprint\u001b[39m(\u001b[38;5;124mf\u001b[39m\u001b[38;5;124m\"\u001b[39m\u001b[38;5;130;01m\\n\u001b[39;00m\u001b[38;5;124mQuality level \u001b[39m\u001b[38;5;132;01m{\u001b[39;00mquality\u001b[38;5;132;01m}\u001b[39;00m\u001b[38;5;124m:\u001b[39m\u001b[38;5;124m\"\u001b[39m)\n\u001b[1;32m      8\u001b[0m         \u001b[38;5;28mprint\u001b[39m(\u001b[38;5;124mf\u001b[39m\u001b[38;5;124m\"\u001b[39m\u001b[38;5;124mOriginal size: \u001b[39m\u001b[38;5;132;01m{\u001b[39;00mstats[\u001b[38;5;124m'\u001b[39m\u001b[38;5;124moriginal_size_bytes\u001b[39m\u001b[38;5;124m'\u001b[39m]\u001b[38;5;241m/\u001b[39m\u001b[38;5;241m1024\u001b[39m\u001b[38;5;132;01m:\u001b[39;00m\u001b[38;5;124m.2f\u001b[39m\u001b[38;5;132;01m}\u001b[39;00m\u001b[38;5;124m KB\u001b[39m\u001b[38;5;124m\"\u001b[39m)\n",
      "Cell \u001b[0;32mIn[1], line 35\u001b[0m, in \u001b[0;36mcompress_image_with_pretrained\u001b[0;34m(image_path, quality)\u001b[0m\n\u001b[1;32m     33\u001b[0m \u001b[38;5;66;03m# Compress and decompress\u001b[39;00m\n\u001b[1;32m     34\u001b[0m \u001b[38;5;28;01mwith\u001b[39;00m torch\u001b[38;5;241m.\u001b[39mno_grad():\n\u001b[0;32m---> 35\u001b[0m     compressed \u001b[38;5;241m=\u001b[39m \u001b[43mmodel\u001b[49m\u001b[38;5;241;43m.\u001b[39;49m\u001b[43mcompress\u001b[49m\u001b[43m(\u001b[49m\u001b[43mx\u001b[49m\u001b[43m)\u001b[49m\n\u001b[1;32m     36\u001b[0m     decompressed \u001b[38;5;241m=\u001b[39m model\u001b[38;5;241m.\u001b[39mdecompress(compressed[\u001b[38;5;124m'\u001b[39m\u001b[38;5;124mstrings\u001b[39m\u001b[38;5;124m'\u001b[39m], compressed[\u001b[38;5;124m'\u001b[39m\u001b[38;5;124mshape\u001b[39m\u001b[38;5;124m'\u001b[39m])\n\u001b[1;32m     38\u001b[0m \u001b[38;5;66;03m# Post-process the output\u001b[39;00m\n",
      "File \u001b[0;32m~/.local/lib/python3.11/site-packages/compressai/models/google.py:592\u001b[0m, in \u001b[0;36mJointAutoregressiveHierarchicalPriors.compress\u001b[0;34m(self, x)\u001b[0m\n\u001b[1;32m    590\u001b[0m y_strings \u001b[38;5;241m=\u001b[39m []\n\u001b[1;32m    591\u001b[0m \u001b[38;5;28;01mfor\u001b[39;00m i \u001b[38;5;129;01min\u001b[39;00m \u001b[38;5;28mrange\u001b[39m(y\u001b[38;5;241m.\u001b[39msize(\u001b[38;5;241m0\u001b[39m)):\n\u001b[0;32m--> 592\u001b[0m     string \u001b[38;5;241m=\u001b[39m \u001b[38;5;28;43mself\u001b[39;49m\u001b[38;5;241;43m.\u001b[39;49m\u001b[43m_compress_ar\u001b[49m\u001b[43m(\u001b[49m\n\u001b[1;32m    593\u001b[0m \u001b[43m        \u001b[49m\u001b[43my_hat\u001b[49m\u001b[43m[\u001b[49m\u001b[43mi\u001b[49m\u001b[43m \u001b[49m\u001b[43m:\u001b[49m\u001b[43m \u001b[49m\u001b[43mi\u001b[49m\u001b[43m \u001b[49m\u001b[38;5;241;43m+\u001b[39;49m\u001b[43m \u001b[49m\u001b[38;5;241;43m1\u001b[39;49m\u001b[43m]\u001b[49m\u001b[43m,\u001b[49m\n\u001b[1;32m    594\u001b[0m \u001b[43m        \u001b[49m\u001b[43mparams\u001b[49m\u001b[43m[\u001b[49m\u001b[43mi\u001b[49m\u001b[43m \u001b[49m\u001b[43m:\u001b[49m\u001b[43m \u001b[49m\u001b[43mi\u001b[49m\u001b[43m \u001b[49m\u001b[38;5;241;43m+\u001b[39;49m\u001b[43m \u001b[49m\u001b[38;5;241;43m1\u001b[39;49m\u001b[43m]\u001b[49m\u001b[43m,\u001b[49m\n\u001b[1;32m    595\u001b[0m \u001b[43m        \u001b[49m\u001b[43my_height\u001b[49m\u001b[43m,\u001b[49m\n\u001b[1;32m    596\u001b[0m \u001b[43m        \u001b[49m\u001b[43my_width\u001b[49m\u001b[43m,\u001b[49m\n\u001b[1;32m    597\u001b[0m \u001b[43m        \u001b[49m\u001b[43mkernel_size\u001b[49m\u001b[43m,\u001b[49m\n\u001b[1;32m    598\u001b[0m \u001b[43m        \u001b[49m\u001b[43mpadding\u001b[49m\u001b[43m,\u001b[49m\n\u001b[1;32m    599\u001b[0m \u001b[43m    \u001b[49m\u001b[43m)\u001b[49m\n\u001b[1;32m    600\u001b[0m     y_strings\u001b[38;5;241m.\u001b[39mappend(string)\n\u001b[1;32m    602\u001b[0m \u001b[38;5;28;01mreturn\u001b[39;00m {\u001b[38;5;124m\"\u001b[39m\u001b[38;5;124mstrings\u001b[39m\u001b[38;5;124m\"\u001b[39m: [y_strings, z_strings], \u001b[38;5;124m\"\u001b[39m\u001b[38;5;124mshape\u001b[39m\u001b[38;5;124m\"\u001b[39m: z\u001b[38;5;241m.\u001b[39msize()[\u001b[38;5;241m-\u001b[39m\u001b[38;5;241m2\u001b[39m:]}\n",
      "File \u001b[0;32m~/.local/lib/python3.11/site-packages/compressai/models/google.py:619\u001b[0m, in \u001b[0;36mJointAutoregressiveHierarchicalPriors._compress_ar\u001b[0;34m(self, y_hat, params, height, width, kernel_size, padding)\u001b[0m\n\u001b[1;32m    617\u001b[0m \u001b[38;5;28;01mfor\u001b[39;00m w \u001b[38;5;129;01min\u001b[39;00m \u001b[38;5;28mrange\u001b[39m(width):\n\u001b[1;32m    618\u001b[0m     y_crop \u001b[38;5;241m=\u001b[39m y_hat[:, :, h : h \u001b[38;5;241m+\u001b[39m kernel_size, w : w \u001b[38;5;241m+\u001b[39m kernel_size]\n\u001b[0;32m--> 619\u001b[0m     ctx_p \u001b[38;5;241m=\u001b[39m \u001b[43mF\u001b[49m\u001b[38;5;241;43m.\u001b[39;49m\u001b[43mconv2d\u001b[49m\u001b[43m(\u001b[49m\n\u001b[1;32m    620\u001b[0m \u001b[43m        \u001b[49m\u001b[43my_crop\u001b[49m\u001b[43m,\u001b[49m\n\u001b[1;32m    621\u001b[0m \u001b[43m        \u001b[49m\u001b[43mmasked_weight\u001b[49m\u001b[43m,\u001b[49m\n\u001b[1;32m    622\u001b[0m \u001b[43m        \u001b[49m\u001b[43mbias\u001b[49m\u001b[38;5;241;43m=\u001b[39;49m\u001b[38;5;28;43mself\u001b[39;49m\u001b[38;5;241;43m.\u001b[39;49m\u001b[43mcontext_prediction\u001b[49m\u001b[38;5;241;43m.\u001b[39;49m\u001b[43mbias\u001b[49m\u001b[43m,\u001b[49m\n\u001b[1;32m    623\u001b[0m \u001b[43m    \u001b[49m\u001b[43m)\u001b[49m\n\u001b[1;32m    625\u001b[0m     \u001b[38;5;66;03m# 1x1 conv for the entropy parameters prediction network, so\u001b[39;00m\n\u001b[1;32m    626\u001b[0m     \u001b[38;5;66;03m# we only keep the elements in the \"center\"\u001b[39;00m\n\u001b[1;32m    627\u001b[0m     p \u001b[38;5;241m=\u001b[39m params[:, :, h : h \u001b[38;5;241m+\u001b[39m \u001b[38;5;241m1\u001b[39m, w : w \u001b[38;5;241m+\u001b[39m \u001b[38;5;241m1\u001b[39m]\n",
      "\u001b[0;31mRuntimeError\u001b[0m: Calculated padded input size per channel: (5 x 4). Kernel size: (5 x 5). Kernel size can't be greater than actual input size"
     ]
    }
   ],
   "source": [
    "# doesnt work\n",
    "for quality in [1, 4, 8]:\n",
    "        reconstructed_img, stats = compress_image_with_pretrained(\n",
    "            '0.png',\n",
    "            quality=quality\n",
    "        )\n",
    "        \n",
    "        print(f\"\\nQuality level {quality}:\")\n",
    "        print(f\"Original size: {stats['original_size_bytes']/1024:.2f} KB\")\n",
    "        print(f\"Compressed size: {stats['compressed_size_bytes']/1024:.2f} KB\")\n",
    "        print(f\"Compression ratio: {stats['compression_ratio']:.2f}x\")\n",
    "        \n",
    "        # Save reconstructed image\n",
    "        reconstructed_img.save(f'reconstructed_q{quality}.png')"
   ]
  },
  {
   "cell_type": "code",
   "execution_count": 3,
   "id": "5e4e4436-3cb7-41a5-a1e7-d39bb2262971",
   "metadata": {},
   "outputs": [
    {
     "name": "stdout",
     "output_type": "stream",
     "text": [
      "\n",
      "Processing different quality levels:\n",
      "------------------------------------------------------------\n",
      "Quality  Original     Compressed   Ratio   \n",
      "------------------------------------------------------------\n"
     ]
    },
    {
     "name": "stderr",
     "output_type": "stream",
     "text": [
      "Downloading: \"https://compressai.s3.amazonaws.com/models/v1/bmshj2018-factorized-prior-1-446d5c7f.pth.tar\" to /tmp/xdg-cache/torch/hub/checkpoints/bmshj2018-factorized-prior-1-446d5c7f.pth.tar\n",
      "100%|██████████| 11.5M/11.5M [00:00<00:00, 59.0MB/s]\n"
     ]
    },
    {
     "name": "stdout",
     "output_type": "stream",
     "text": [
      "1         1137.43 KB   105.29 KB    10.80x\n"
     ]
    },
    {
     "name": "stderr",
     "output_type": "stream",
     "text": [
      "Downloading: \"https://compressai.s3.amazonaws.com/models/v1/bmshj2018-factorized-prior-4-1ed4405a.pth.tar\" to /tmp/xdg-cache/torch/hub/checkpoints/bmshj2018-factorized-prior-4-1ed4405a.pth.tar\n",
      "100%|██████████| 11.6M/11.6M [00:00<00:00, 57.1MB/s]\n"
     ]
    },
    {
     "name": "stdout",
     "output_type": "stream",
     "text": [
      "4         1137.43 KB   346.11 KB     3.29x\n"
     ]
    },
    {
     "name": "stderr",
     "output_type": "stream",
     "text": [
      "Downloading: \"https://compressai.s3.amazonaws.com/models/v1/bmshj2018-factorized-prior-6-9b02ea3a.pth.tar\" to /tmp/xdg-cache/torch/hub/checkpoints/bmshj2018-factorized-prior-6-9b02ea3a.pth.tar\n",
      "100%|██████████| 27.3M/27.3M [00:00<00:00, 47.5MB/s]\n"
     ]
    },
    {
     "name": "stdout",
     "output_type": "stream",
     "text": [
      "6         1137.43 KB   702.19 KB     1.62x\n"
     ]
    },
    {
     "name": "stderr",
     "output_type": "stream",
     "text": [
      "Downloading: \"https://compressai.s3.amazonaws.com/models/v1/bmshj2018-factorized-prior-8-5232faa3.pth.tar\" to /tmp/xdg-cache/torch/hub/checkpoints/bmshj2018-factorized-prior-8-5232faa3.pth.tar\n",
      "100%|██████████| 27.9M/27.9M [00:00<00:00, 44.2MB/s]\n"
     ]
    },
    {
     "name": "stdout",
     "output_type": "stream",
     "text": [
      "8         1137.43 KB  1310.84 KB     0.87x\n",
      "------------------------------------------------------------\n",
      "\n",
      "Output files saved with prefix: compressed_20241201_170556\n"
     ]
    }
   ],
   "source": [
    "# this one works\n",
    "\n",
    "import torch\n",
    "import torchvision.transforms as transforms\n",
    "from PIL import Image\n",
    "from compressai.zoo import models\n",
    "import os\n",
    "from datetime import datetime\n",
    "\n",
    "def compress_image_with_pretrained(image_path, quality=1, output_prefix=\"\"):\n",
    "    \"\"\"\n",
    "    Compress an image using a pre-trained CompressAI model\n",
    "    \"\"\"\n",
    "    img = Image.open(image_path).convert('RGB')\n",
    "    \n",
    "    # Load model\n",
    "    model = models['bmshj2018-factorized'](quality=quality, pretrained=True)\n",
    "    model.eval()\n",
    "    device = 'cuda' if torch.cuda.is_available() else 'cpu'\n",
    "    model = model.to(device)\n",
    "    \n",
    "    # Transform and pad\n",
    "    x = transforms.ToTensor()(img).unsqueeze(0).to(device)\n",
    "    _, _, h, w = x.shape\n",
    "    pad_h = (64 - (h % 64)) % 64\n",
    "    pad_w = (64 - (w % 64)) % 64\n",
    "    \n",
    "    if pad_h > 0 or pad_w > 0:\n",
    "        x = torch.nn.functional.pad(x, (0, pad_w, 0, pad_h))\n",
    "    \n",
    "    # Compress and decompress\n",
    "    with torch.no_grad():\n",
    "        compressed = model.compress(x)\n",
    "        decompressed = model.decompress(compressed['strings'], compressed['shape'])\n",
    "    \n",
    "    # Post-process\n",
    "    x_hat = decompressed['x_hat']\n",
    "    if pad_h > 0 or pad_w > 0:\n",
    "        x_hat = x_hat[:, :, :h, :w]\n",
    "    \n",
    "    # Convert to PIL Image\n",
    "    out_img = transforms.ToPILImage()(x_hat.squeeze().cpu().clamp_(0, 1))\n",
    "    \n",
    "    # Calculate stats\n",
    "    original_size = os.path.getsize(image_path)\n",
    "    compressed_size = sum(len(s[0]) for s in compressed['strings'])\n",
    "    \n",
    "    # Save the output\n",
    "    output_filename = f\"{output_prefix}_q{quality}.png\"\n",
    "    out_img.save(output_filename)\n",
    "    \n",
    "    return {\n",
    "        'quality': quality,\n",
    "        'original_size_bytes': original_size,\n",
    "        'compressed_size_bytes': compressed_size,\n",
    "        'compression_ratio': original_size / compressed_size,\n",
    "        'output_file': output_filename\n",
    "    }\n",
    "\n",
    "def compare_quality_levels(image_path, qualities=[1, 4, 6, 8]):\n",
    "    \"\"\"\n",
    "    Compare different quality levels of compression\n",
    "    \"\"\"\n",
    "    timestamp = datetime.now().strftime(\"%Y%m%d_%H%M%S\")\n",
    "    output_prefix = f\"compressed_{timestamp}\"\n",
    "    \n",
    "    results = []\n",
    "    print(\"\\nProcessing different quality levels:\")\n",
    "    print(\"-\" * 60)\n",
    "    print(f\"{'Quality':<8} {'Original':<12} {'Compressed':<12} {'Ratio':<8}\")\n",
    "    print(\"-\" * 60)\n",
    "    \n",
    "    for quality in qualities:\n",
    "        result = compress_image_with_pretrained(\n",
    "            image_path, \n",
    "            quality=quality,\n",
    "            output_prefix=output_prefix\n",
    "        )\n",
    "        results.append(result)\n",
    "        \n",
    "        print(f\"{quality:<8} \"\n",
    "              f\"{result['original_size_bytes']/1024:>8.2f} KB \"\n",
    "              f\"{result['compressed_size_bytes']/1024:>8.2f} KB \"\n",
    "              f\"{result['compression_ratio']:>8.2f}x\")\n",
    "    \n",
    "    print(\"-\" * 60)\n",
    "    print(f\"\\nOutput files saved with prefix: {output_prefix}\")\n",
    "    return results\n",
    "\n",
    "results = compare_quality_levels('0.png')"
   ]
  },
  {
   "cell_type": "code",
   "execution_count": null,
   "id": "ca9f5ef1-b629-4245-8d60-8ebaeb91da4e",
   "metadata": {},
   "outputs": [],
   "source": []
  }
 ],
 "metadata": {
  "kernelspec": {
   "display_name": "ic",
   "language": "python",
   "name": "ic"
  },
  "language_info": {
   "codemirror_mode": {
    "name": "ipython",
    "version": 3
   },
   "file_extension": ".py",
   "mimetype": "text/x-python",
   "name": "python",
   "nbconvert_exporter": "python",
   "pygments_lexer": "ipython3",
   "version": "3.11.9"
  }
 },
 "nbformat": 4,
 "nbformat_minor": 5
}
